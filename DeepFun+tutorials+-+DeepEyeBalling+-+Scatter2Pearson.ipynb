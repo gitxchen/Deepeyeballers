{
 "cells": [
  {
   "cell_type": "markdown",
   "metadata": {},
   "source": [
    "#  <center> <h1>Scatter2Pearson:</h1> </center>"
   ]
  },
  {
   "cell_type": "markdown",
   "metadata": {},
   "source": [
    "## Some intro to Pearson's-$r$ from [Wikipedia:](https://en.wikipedia.org/wiki/Pearson_correlation_coefficient)\n",
    "<img src=\"r_formula.png\" height=\"500\" width=\"1000\">\n",
    "<img src=\"wiki_intro.png\" height=\"1500\" width=\"1000\">"
   ]
  },
  {
   "cell_type": "markdown",
   "metadata": {},
   "source": [
    "### Project description: \n",
    "### Human feeds in scatterplots [192 x 192] images --> The Convolutional Neural Network regressor spits out Pearson's-$r$\n",
    "\n",
    "#### Obligatory MS paint pic below:\n",
    "\n",
    "<img src=\"Intro.png\" height=\"700\" width=\"500\">"
   ]
  },
  {
   "cell_type": "code",
   "execution_count": 1,
   "metadata": {
    "collapsed": false
   },
   "outputs": [],
   "source": [
    "import numpy as np\n",
    "from scipy.stats import pearsonr\n",
    "import matplotlib.pyplot as plt\n",
    "%matplotlib inline\n",
    "from tqdm import tqdm"
   ]
  },
  {
   "cell_type": "markdown",
   "metadata": {},
   "source": [
    "### *A simple helper function for generating Scatter-plots and converting them to MNISTy tensor*:\n",
    "#### Authored with copious help from  http://stackoverflow.com/questions/13714454/specifying-and-saving-a-figure-with-exact-size-in-pixels (Just visit here in case you don't know your display's DPI: https://www.infobyip.com/detectmonitordpi.php for setting the 'my_dpi' parameter)"
   ]
  },
  {
   "cell_type": "code",
   "execution_count": 2,
   "metadata": {
    "collapsed": false
   },
   "outputs": [],
   "source": [
    "\n",
    "def scatter2mat(x,y,x_lim=4,y_lim=4):\n",
    "    '''\n",
    "    data=scatter2mat(x,y)\n",
    "    x and y are in the input vectors.\n",
    "    data is the 192 x 192 numpy matrix\n",
    "    '''\n",
    "    my_dpi=96 # Just visit here in case you don't know your display's DPI: https://www.infobyip.com/detectmonitordpi.php\n",
    "    fig=plt.figure(figsize=(200/my_dpi,200/my_dpi),facecolor='white', dpi=my_dpi)\n",
    "    ax1 = plt.axes(frameon=False)\n",
    "    plt.xlim([-x_lim,x_lim])\n",
    "    plt.ylim([-y_lim,y_lim])\n",
    "    plt.scatter(x,y,color='k',marker=u'.',s=1)\n",
    "    ax1 = plt.axes(frameon=False)\n",
    "    ax1.get_xaxis().tick_bottom()   # Turn off ticks at top of plot\n",
    "    ax1.axes.get_xaxis().set_visible(False)\n",
    "    ax1.axes.get_yaxis().set_visible(False) \n",
    "    fig.canvas.draw()\n",
    "    plt.close()\n",
    "    data = np.fromstring(fig.canvas.tostring_rgb(), dtype=np.uint8, sep='')\n",
    "    data = data.reshape(fig.canvas.get_width_height()[::-1] + (3,))\n",
    "    \n",
    "    return data[:,:,0]# Just pick the 'R' channel"
   ]
  },
  {
   "cell_type": "markdown",
   "metadata": {},
   "source": [
    "# Data generation:\n",
    "- N_scatter_points=100 - Number of scatter-points per image\n",
    "- N_per_r=100 - Number of images per choice of $r$\n",
    "- r_vec_len: Number of uniformly spaced samples of Pearson's-$r$ between $-1$ and $1$\n",
    "- r_vec=np.linspace(-1,1,r_vec_len) - Vector of values of Pearson's-$r$ chosen for training.\n",
    "- ScatMat=np.zeros((r_vec_len*N_per_r,192,192,1)) - Data tensor which will be used to train the DeepNet\n",
    "- r_est_vec=np.zeros((r_vec_len*N_per_r,1)) - Estimated Pearson's-$r$ using $scipy.stats.pearsonr$ (Used as ground truth for training/testing)"
   ]
  },
  {
   "cell_type": "code",
   "execution_count": 3,
   "metadata": {
    "collapsed": false,
    "scrolled": true
   },
   "outputs": [
    {
     "name": "stderr",
     "output_type": "stream",
     "text": [
      "100%|██████████| 25/25 [01:23<00:00,  3.13s/it]\n"
     ]
    }
   ],
   "source": [
    "mean = [0, 0]\n",
    "N_scatter_points=100\n",
    "N_per_r=100\n",
    "r_vec_len=25\n",
    "r_vec=np.linspace(-1,1,r_vec_len)\n",
    "ScatMat=np.zeros((r_vec_len*N_per_r,192,192,1))\n",
    "r_est_vec=np.zeros((r_vec_len*N_per_r,1))\n",
    "ind=0\n",
    "for r in tqdm(r_vec):\n",
    "    for i in range(N_per_r):      \n",
    "        cov = [[1, r], [r, 1]] \n",
    "        x, y = np.random.multivariate_normal(mean, cov,N_scatter_points).T        \n",
    "        ScatMat[ind,:,:,0]=scatter2mat(x,y)\n",
    "        r_est_vec[ind]=pearsonr(x,y)[0]\n",
    "        ind+=1"
   ]
  },
  {
   "cell_type": "markdown",
   "metadata": {},
   "source": [
    "## Example-plot:"
   ]
  },
  {
   "cell_type": "code",
   "execution_count": 4,
   "metadata": {
    "collapsed": false
   },
   "outputs": [
    {
     "data": {
      "text/plain": [
       "<matplotlib.text.Text at 0x7f9d1e08e050>"
      ]
     },
     "execution_count": 4,
     "metadata": {},
     "output_type": "execute_result"
    },
    {
     "data": {
      "image/png": "[encoded data removed]",
      "text/plain": [
       "<matplotlib.figure.Figure at 0x7f9da26b62d0>"
      ]
     },
     "metadata": {},
     "output_type": "display_data"
    }
   ],
   "source": [
    "fig = plt.figure()\n",
    "ax = fig.add_subplot(111)\n",
    "rand_ind=np.random.choice(r_vec_len*N_per_r)\n",
    "cax = ax.matshow(ScatMat[np.random.choice(r_vec_len*N_per_r),:,:,0], interpolation='nearest',cmap=plt.cm.gray)\n",
    "fig.colorbar(cax)\n",
    "plt.title('Pearson\\'s-$r$ :'+str(r_est_vec[rand_ind][0]))"
   ]
  },
  {
   "cell_type": "markdown",
   "metadata": {},
   "source": [
    "# Random Train-test split:"
   ]
  },
  {
   "cell_type": "code",
   "execution_count": 5,
   "metadata": {
    "collapsed": false
   },
   "outputs": [],
   "source": [
    "N_train=np.int(r_vec_len*N_per_r*0.8)\n",
    "N_test=r_vec_len*N_per_r-N_train\n",
    "train_indices=np.random.choice(r_vec_len*N_per_r,N_train,replace=False)\n",
    "test_indices=list(set(np.arange(r_vec_len*N_per_r)) - set(train_indices))\n",
    "\n",
    "X_train=ScatMat[train_indices,:,:,:]\n",
    "X_test=ScatMat[test_indices,:,:,:]\n",
    "\n",
    "y_train=r_est_vec[train_indices]\n",
    "y_test=r_est_vec[test_indices]\n"
   ]
  },
  {
   "cell_type": "markdown",
   "metadata": {},
   "source": [
    "# Train the  Convolutional Neural Network regressor using [Keras](https://keras.io/)\n",
    "### *Keras is IMHO, one of the best Deep Learning libraries (for both Theano and TensorFlow backends) for students getting started in DeepLearning.*"
   ]
  },
  {
   "cell_type": "code",
   "execution_count": 6,
   "metadata": {
    "collapsed": false
   },
   "outputs": [
    {
     "name": "stderr",
     "output_type": "stream",
     "text": [
      "Using TensorFlow backend.\n"
     ]
    }
   ],
   "source": [
    "from __future__ import print_function\n",
    "import keras\n",
    "from keras.models import Sequential\n",
    "from keras.layers import Dense, Flatten,Activation\n",
    "from keras.layers import Conv2D, MaxPooling2D\n",
    "from keras import backend as K"
   ]
  },
  {
   "cell_type": "markdown",
   "metadata": {},
   "source": [
    "## Specify the model, compile and train it: "
   ]
  },
  {
   "cell_type": "code",
   "execution_count": 7,
   "metadata": {
    "collapsed": false
   },
   "outputs": [
    {
     "name": "stdout",
     "output_type": "stream",
     "text": [
      "Train on 1750 samples, validate on 250 samples\n",
      "Epoch 1/20\n",
      "1750/1750 [==============================] - 4s - loss: 0.3959 - val_loss: 0.2278\n",
      "Epoch 2/20\n",
      "1750/1750 [==============================] - 1s - loss: 0.1438 - val_loss: 0.0433\n",
      "Epoch 3/20\n",
      "1750/1750 [==============================] - 1s - loss: 0.0112 - val_loss: 0.0068\n",
      "Epoch 4/20\n",
      "1750/1750 [==============================] - 1s - loss: 0.0413 - val_loss: 0.0074\n",
      "Epoch 5/20\n",
      "1750/1750 [==============================] - 1s - loss: 0.0096 - val_loss: 0.0972\n",
      "Epoch 6/20\n",
      "1750/1750 [==============================] - 1s - loss: 0.0526 - val_loss: 0.0098\n",
      "Epoch 7/20\n",
      "1750/1750 [==============================] - 1s - loss: 0.0130 - val_loss: 0.0354\n",
      "Epoch 8/20\n",
      "1750/1750 [==============================] - 1s - loss: 0.0348 - val_loss: 0.0049\n",
      "Epoch 9/20\n",
      "1750/1750 [==============================] - 1s - loss: 0.0082 - val_loss: 0.0094\n",
      "Epoch 10/20\n",
      "1750/1750 [==============================] - 1s - loss: 0.0334 - val_loss: 0.0227\n",
      "Epoch 11/20\n",
      "1750/1750 [==============================] - 1s - loss: 0.0127 - val_loss: 0.0095\n",
      "Epoch 12/20\n",
      "1750/1750 [==============================] - 1s - loss: 0.0078 - val_loss: 0.0063\n",
      "Epoch 13/20\n",
      "1750/1750 [==============================] - 1s - loss: 0.0246 - val_loss: 0.0051\n",
      "Epoch 14/20\n",
      "1750/1750 [==============================] - 1s - loss: 0.0057 - val_loss: 0.0048\n",
      "Epoch 15/20\n",
      "1750/1750 [==============================] - 1s - loss: 0.0633 - val_loss: 0.0048\n",
      "Epoch 16/20\n",
      "1750/1750 [==============================] - 1s - loss: 0.0066 - val_loss: 0.0110\n",
      "Epoch 17/20\n",
      "1750/1750 [==============================] - 1s - loss: 0.0227 - val_loss: 0.0421\n",
      "Epoch 18/20\n",
      "1750/1750 [==============================] - 1s - loss: 0.0254 - val_loss: 0.0044\n",
      "Epoch 19/20\n",
      "1750/1750 [==============================] - 1s - loss: 0.0108 - val_loss: 0.0713\n",
      "Epoch 20/20\n",
      "1750/1750 [==============================] - 1s - loss: 0.0187 - val_loss: 0.0100\n",
      "500/500 [==============================] - 0s     \n",
      "____________________________________________________________________________________________________\n",
      "Layer (type)                     Output Shape          Param #     Connected to                     \n",
      "====================================================================================================\n",
      "convolution2d_1 (Convolution2D)  (None, 192, 192, 40)  680         convolution2d_input_1[0][0]      \n",
      "____________________________________________________________________________________________________\n",
      "activation_1 (Activation)        (None, 192, 192, 40)  0           convolution2d_1[0][0]            \n",
      "____________________________________________________________________________________________________\n",
      "maxpooling2d_1 (MaxPooling2D)    (None, 48, 48, 40)    0           activation_1[0][0]               \n",
      "____________________________________________________________________________________________________\n",
      "convolution2d_2 (Convolution2D)  (None, 48, 48, 20)    12820       maxpooling2d_1[0][0]             \n",
      "____________________________________________________________________________________________________\n",
      "activation_2 (Activation)        (None, 48, 48, 20)    0           convolution2d_2[0][0]            \n",
      "____________________________________________________________________________________________________\n",
      "maxpooling2d_2 (MaxPooling2D)    (None, 12, 12, 20)    0           activation_2[0][0]               \n",
      "____________________________________________________________________________________________________\n",
      "convolution2d_3 (Convolution2D)  (None, 12, 12, 10)    3210        maxpooling2d_2[0][0]             \n",
      "____________________________________________________________________________________________________\n",
      "activation_3 (Activation)        (None, 12, 12, 10)    0           convolution2d_3[0][0]            \n",
      "____________________________________________________________________________________________________\n",
      "maxpooling2d_3 (MaxPooling2D)    (None, 3, 3, 10)      0           activation_3[0][0]               \n",
      "____________________________________________________________________________________________________\n",
      "flatten_1 (Flatten)              (None, 90)            0           maxpooling2d_3[0][0]             \n",
      "____________________________________________________________________________________________________\n",
      "dense_1 (Dense)                  (None, 128)           11648       flatten_1[0][0]                  \n",
      "____________________________________________________________________________________________________\n",
      "activation_4 (Activation)        (None, 128)           0           dense_1[0][0]                    \n",
      "____________________________________________________________________________________________________\n",
      "dense_2 (Dense)                  (None, 1)             129         activation_4[0][0]               \n",
      "====================================================================================================\n",
      "Total params: 28,487\n",
      "Trainable params: 28,487\n",
      "Non-trainable params: 0\n",
      "____________________________________________________________________________________________________\n"
     ]
    }
   ],
   "source": [
    "def regress_r(img_rows=192, img_cols=192):\n",
    "    nb_pool = 4\n",
    "    ###############################################################\n",
    "    ###############################################################\n",
    "    model = Sequential()\n",
    "    model.add(Conv2D(40,4,4,border_mode='same',input_shape=(img_rows, img_cols,1)))\n",
    "    model.add(Activation('tanh'))\n",
    "    model.add(MaxPooling2D(pool_size=(nb_pool, nb_pool)))\n",
    "    model.add(Conv2D(20,4,4,border_mode='same',input_shape=(img_rows, img_cols,1)))\n",
    "    model.add(Activation('tanh'))\n",
    "    model.add(MaxPooling2D(pool_size=(nb_pool, nb_pool)))\n",
    "    model.add(Conv2D(10,4,4,border_mode='same',input_shape=(img_rows, img_cols,1)))\n",
    "    model.add(Activation('tanh'))\n",
    "    model.add(MaxPooling2D(pool_size=(nb_pool, nb_pool)))\n",
    "    model.add(Flatten())\n",
    "    model.add(Dense(128))\n",
    "    model.add(Activation('tanh'))\n",
    "    model.add(Dense(1,  init='normal'))\n",
    "    return model\n",
    "\n",
    "model = regress_r(img_rows=192, img_cols=192)\n",
    "model.compile(loss='mean_squared_error', optimizer='rmsprop')\n",
    "model.fit(X_train, y_train, batch_size=128,validation_split=0.125, nb_epoch=20,verbose=1)\n",
    "score = model.evaluate(X_test, y_test, verbose=1)\n",
    "model.summary()"
   ]
  },
  {
   "cell_type": "markdown",
   "metadata": {},
   "source": [
    "## Now, test the model and benchmark the performance:"
   ]
  },
  {
   "cell_type": "code",
   "execution_count": 8,
   "metadata": {
    "collapsed": false
   },
   "outputs": [
    {
     "name": "stdout",
     "output_type": "stream",
     "text": [
      "The test-score which is the MSE (np.mean(np.abs(y_pred-y_test)**2)) is: 0.00933675827086\n",
      "\n",
      "Percent of test samples with less than 0.1 error is: 67.6\n"
     ]
    },
    {
     "data": {
      "text/plain": [
       "<matplotlib.text.Text at 0x7f9cc8341210>"
      ]
     },
     "execution_count": 8,
     "metadata": {},
     "output_type": "execute_result"
    },
    {
     "data": {
      "image/png": "[encoded data removed]",
      "text/plain": [
       "<matplotlib.figure.Figure at 0x7f9ccd485f90>"
      ]
     },
     "metadata": {},
     "output_type": "display_data"
    }
   ],
   "source": [
    "score = model.evaluate(X_test, y_test, verbose=0)\n",
    "print('The test-score which is the MSE (np.mean(np.abs(y_pred-y_test)**2)) is: '+str(score)+'\\n')\n",
    "y_pred=model.predict(X_test)\n",
    "acc=100.0*(np.abs(y_pred-y_test)<0.1).sum()/len(y_test)\n",
    "print('Percent of test samples with less than 0.1 error is: '+str(acc))\n",
    "\n",
    "plt.scatter(y_pred,y_test)\n",
    "plt.xlabel('True value')\n",
    "plt.ylabel('Predicted value')\n",
    "plt.title('Scatterplot of the predicted train and test')"
   ]
  },
  {
   "cell_type": "markdown",
   "metadata": {},
   "source": [
    "# Firing the final salvo:\n",
    "# Ask the deepnet to benchmark its own performance :)"
   ]
  },
  {
   "cell_type": "code",
   "execution_count": 9,
   "metadata": {
    "collapsed": false
   },
   "outputs": [],
   "source": [
    "r_result=pearsonr(y_pred,y_test)[0][0]\n",
    "r_result_pred=model.predict(scatter2mat(y_pred,y_test,1,1).reshape(1,192,192,1))[0][0]"
   ]
  },
  {
   "cell_type": "code",
   "execution_count": 10,
   "metadata": {
    "collapsed": false
   },
   "outputs": [
    {
     "name": "stdout",
     "output_type": "stream",
     "text": [
      "The Pearson's-$r$ for the prediction is: 0.993749156511 and the predicted Pearson's-$r$ for the prediction is: 0.952951\n"
     ]
    }
   ],
   "source": [
    "print('The Pearson\\'s-$r$ for the prediction is: '+str(r_result)+' and the predicted Pearson\\'s-$r$ for the prediction is: '+str(r_result_pred) )"
   ]
  }
 ],
 "metadata": {
  "kernelspec": {
   "display_name": "Python 2",
   "language": "python",
   "name": "python2"
  },
  "language_info": {
   "codemirror_mode": {
    "name": "ipython",
    "version": 2
   },
   "file_extension": ".py",
   "mimetype": "text/x-python",
   "name": "python",
   "nbconvert_exporter": "python",
   "pygments_lexer": "ipython2",
   "version": "2.7.6"
  }
 },
 "nbformat": 4,
 "nbformat_minor": 1
}
